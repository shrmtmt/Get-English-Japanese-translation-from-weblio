{
  "cells": [
    {
      "cell_type": "markdown",
      "metadata": {
        "id": "view-in-github",
        "colab_type": "text"
      },
      "source": [
        "<a href=\"https://colab.research.google.com/github/shrmtmt/Get-English-Japanese-translation-from-weblio/blob/main/EJ_dictionary_with_GoogleWorksheet.ipynb\" target=\"_parent\"><img src=\"https://colab.research.google.com/assets/colab-badge.svg\" alt=\"Open In Colab\"/></a>"
      ]
    },
    {
      "cell_type": "code",
      "execution_count": 4,
      "metadata": {
        "id": "yDZ3P90li4ft",
        "colab": {
          "base_uri": "https://localhost:8080/"
        },
        "outputId": "85ea82c6-3080-408e-a1db-ed0f70161164",
        "cellView": "form"
      },
      "outputs": [
        {
          "output_type": "stream",
          "name": "stdout",
          "text": [
            "設定が終了しました。\n"
          ]
        }
      ],
      "source": [
        "#@title #設定 { run: \"auto\" }\n",
        "\n",
        "#@markdown ###英単語が記されたGoogle Spreadsheetの指定方法を選択してください\n",
        "specify_method = 'File name' #@param [\"File name\", \"URL\", \"Spreadsheet ID\"] {allow-input: false}\n",
        "\n",
        "#@markdown ###英単語が記されたGoogle Spreadsheet名、Google Spreadsheet URL、Google Spreadsheet IDは\n",
        "spreadsheet_name = 'EnglishWorkListSample'#@param {type:\"string\"}\n",
        "\n",
        "#@markdown ###英単語が記されたシート名は\n",
        "sheet_name = 'Sheet1'#@param {type:\"string\"}\n",
        "\n",
        "#@markdown ###英単語が記された列番号は（取得しない場合=0、A列=1）\n",
        "input_column = 1#@param {type:\"integer\"}\n",
        "\n",
        "#@markdown ###和訳の保存先列番号は（取得しない場合=0、A列=1）\n",
        "translation_column = 2#@param {type:\"integer\"}\n",
        "\n",
        "#@markdown ###レベルの保存先列番号は（取得しない場合=0、A列=1）\n",
        "level_column = 3#@param {type:\"integer\"}\n",
        "\n",
        "#@markdown ###発音記号の保存先列番号は（取得しない場合=0、A列=1）\n",
        "phonetic_column = 4#@param {type:\"integer\"}\n",
        "\n",
        "#@markdown ###音声取得済みチェックの出力先列番号は（取得しない場合=0、A列=1）\n",
        "sound_column = 5#@param {type:\"integer\"}\n",
        "\n",
        "#@markdown ###音声MP3ファイルの保存先フォルダ名は\n",
        "sound_path = '\\u52C9\\u5F37/\\u82F1\\u8A9E/EnglishWorkListSample_sound'#@param {type:\"string\"}\n",
        "\n",
        "print('設定が終了しました。')"
      ]
    },
    {
      "cell_type": "code",
      "source": [
        "!pip install gspread"
      ],
      "metadata": {
        "colab": {
          "base_uri": "https://localhost:8080/"
        },
        "id": "jz-fSWUcvEgQ",
        "outputId": "45fd0692-3da6-421f-e005-20566e860159"
      },
      "execution_count": 2,
      "outputs": [
        {
          "output_type": "stream",
          "name": "stdout",
          "text": [
            "Requirement already satisfied: gspread in /usr/local/lib/python3.10/dist-packages (3.4.2)\n",
            "Requirement already satisfied: requests>=2.2.1 in /usr/local/lib/python3.10/dist-packages (from gspread) (2.31.0)\n",
            "Requirement already satisfied: google-auth in /usr/local/lib/python3.10/dist-packages (from gspread) (2.17.3)\n",
            "Requirement already satisfied: charset-normalizer<4,>=2 in /usr/local/lib/python3.10/dist-packages (from requests>=2.2.1->gspread) (3.3.0)\n",
            "Requirement already satisfied: idna<4,>=2.5 in /usr/local/lib/python3.10/dist-packages (from requests>=2.2.1->gspread) (3.4)\n",
            "Requirement already satisfied: urllib3<3,>=1.21.1 in /usr/local/lib/python3.10/dist-packages (from requests>=2.2.1->gspread) (2.0.6)\n",
            "Requirement already satisfied: certifi>=2017.4.17 in /usr/local/lib/python3.10/dist-packages (from requests>=2.2.1->gspread) (2023.7.22)\n",
            "Requirement already satisfied: cachetools<6.0,>=2.0.0 in /usr/local/lib/python3.10/dist-packages (from google-auth->gspread) (5.3.1)\n",
            "Requirement already satisfied: pyasn1-modules>=0.2.1 in /usr/local/lib/python3.10/dist-packages (from google-auth->gspread) (0.3.0)\n",
            "Requirement already satisfied: six>=1.9.0 in /usr/local/lib/python3.10/dist-packages (from google-auth->gspread) (1.16.0)\n",
            "Requirement already satisfied: rsa<5,>=3.1.4 in /usr/local/lib/python3.10/dist-packages (from google-auth->gspread) (4.9)\n",
            "Requirement already satisfied: pyasn1<0.6.0,>=0.4.6 in /usr/local/lib/python3.10/dist-packages (from pyasn1-modules>=0.2.1->google-auth->gspread) (0.5.0)\n"
          ]
        }
      ]
    },
    {
      "cell_type": "code",
      "source": [
        "import requests\n",
        "import os\n",
        "from bs4 import BeautifulSoup\n",
        "import urllib.parse\n",
        "import gspread\n",
        "from google.colab import drive, auth\n",
        "from google.auth import default\n",
        "from time import sleep\n",
        "\n",
        "from google.colab import drive\n",
        "drive.mount('/content/drive')"
      ],
      "metadata": {
        "id": "SuxGyO61uc75",
        "colab": {
          "base_uri": "https://localhost:8080/"
        },
        "outputId": "761e7d27-a4b2-4813-8365-4775abfe5d3a"
      },
      "execution_count": 3,
      "outputs": [
        {
          "output_type": "stream",
          "name": "stdout",
          "text": [
            "Mounted at /content/drive\n"
          ]
        }
      ]
    },
    {
      "cell_type": "code",
      "source": [
        "class WeblioScraper:\n",
        "    def __init__(self, spreadsheet_name, sheet_name, sound_path, input_column, translation_column, level_column, phonetic_column, sound_column):\n",
        "        auth.authenticate_user()\n",
        "        creds, _ = default()\n",
        "        gc = gspread.authorize(creds)\n",
        "\n",
        "        self.worksheet = self._get_worksheet(gc, specify_method, spreadsheet_name, sheet_name)\n",
        "        self.download_folder = os.path.join('/content/drive/My Drive/', sound_path)\n",
        "        self.input_column = input_column\n",
        "        self.translation_column = translation_column\n",
        "        self.level_column = level_column\n",
        "        self.phonetic_column = phonetic_column\n",
        "        self.sound_column = sound_column\n",
        "\n",
        "    def _get_worksheet(self, gc, specify_method, spreadsheet_name, sheet_name):\n",
        "        try:\n",
        "            if specify_method ==\"File name\":\n",
        "                worksheet = gc.open(spreadsheet_name).worksheet(sheet_name)\n",
        "            elif specify_method == \"URL\":\n",
        "                worksheet = gc.open_by_url(spreadsheet_name).worksheet(sheet_name)\n",
        "            elif specify_method == \"Spreadsheet ID\":\n",
        "                worksheet = gc.open_by_key(spreadsheet_name).worksheet(sheet_name)\n",
        "            else:\n",
        "                raise Exception(\"Incorrect spreadsheet specification\")\n",
        "            return worksheet\n",
        "        except Exception as e:\n",
        "            raise Exception(\"Error accessing the worksheet:\", e)\n",
        "\n",
        "    def fetch_data(self, word):\n",
        "        url = \"https://ejje.weblio.jp/content/\" + word\n",
        "        response = requests.get(url)\n",
        "        response.encoding = response.apparent_encoding\n",
        "\n",
        "        if response.status_code != 200:\n",
        "            return {\"translation\": \"not_found\", \"level\": \"not_found\", \"phonetic\": \"not_found\", \"sound\": \"not_found\"}\n",
        "\n",
        "        data = BeautifulSoup(response.text, \"html.parser\")\n",
        "        translation = self._get_translation(data)\n",
        "        level = self._get_level(data)\n",
        "        phonetic = self._get_phonetic(data)\n",
        "        sound = self._get_sound(data, word)\n",
        "        return {\"translation\": translation, \"level\": level, \"phonetic\": phonetic, \"sound\": sound}\n",
        "\n",
        "    def _get_translation(self, data):\n",
        "        translation_selector = \"#summary > div.summaryM.descriptionWrp > p > span.content-explanation.ej\"\n",
        "        translation_element = data.select_one(translation_selector)\n",
        "        return translation_element.text.strip() if translation_element else \"not_found\"\n",
        "\n",
        "    def _get_level(self, data):\n",
        "        level_selector = \"#learning-level-table > div > span:nth-of-type(1) > span:nth-of-type(3)\"\n",
        "        level_element = data.select_one(level_selector)\n",
        "        return level_element.text if level_element else \"not_found\"\n",
        "\n",
        "    def _get_phonetic(self, data):\n",
        "        phonetic_selector = \"#phoneticEjjeNavi > div > span:nth-child(2)\"\n",
        "        phonetic_element = data.select_one(phonetic_selector)\n",
        "        return phonetic_element.text if phonetic_element else \"not_found\"\n",
        "\n",
        "    def _get_sound(self, data, word):\n",
        "        sound_selector = \"#summary > div.summary-title-wrp > div.summary-icon-cells > div:nth-child(1) > i > audio > source\"\n",
        "        mp3_url_element = data.select_one(sound_selector)\n",
        "        if mp3_url_element:\n",
        "            mp3_url = mp3_url_element['src']\n",
        "            response = requests.get(mp3_url)\n",
        "            if response.status_code == 200:\n",
        "                if not os.path.exists(self.download_folder):\n",
        "                    os.makedirs(self.download_folder)\n",
        "                mp3_filepath = os.path.join(self.download_folder, word + '.mp3')\n",
        "                with open(mp3_filepath, 'wb') as mp3_file:\n",
        "                    mp3_file.write(response.content)\n",
        "                return word + '.mp3'\n",
        "        return \"not_found\"\n",
        "\n",
        "    def update_worksheet(self, row, data):\n",
        "        update_values = []\n",
        "        if self.translation_column > 0:\n",
        "            update_values.append((row, self.translation_column, data[\"translation\"]))\n",
        "\n",
        "        if self.level_column > 0:\n",
        "            update_values.append((row, self.level_column, data[\"level\"]))\n",
        "\n",
        "        if self.phonetic_column > 0:\n",
        "            update_values.append((row, self.phonetic_column, data[\"phonetic\"]))\n",
        "\n",
        "        if self.sound_column > 0:\n",
        "            update_values.append((row, self.sound_column, data[\"sound\"]))\n",
        "\n",
        "        for update in update_values:\n",
        "            self.worksheet.update_cell(update[0], update[1], update[2])\n"
      ],
      "metadata": {
        "id": "z7Ef-B8HyHsq"
      },
      "execution_count": 6,
      "outputs": []
    },
    {
      "cell_type": "code",
      "source": [
        "def main():\n",
        "    scraper = WeblioScraper(spreadsheet_name, sheet_name, sound_path, input_column, translation_column, level_column, phonetic_column, sound_column)\n",
        "    counter = 1\n",
        "\n",
        "    while scraper.worksheet.cell(counter, input_column).value != '':\n",
        "        check_column = max(translation_column, level_column, phonetic_column, sound_column)\n",
        "        if scraper.worksheet.cell(counter, check_column).value == '':\n",
        "            word = scraper.worksheet.cell(counter, input_column).value\n",
        "            result = scraper.fetch_data(word)\n",
        "            scraper.update_worksheet(counter, result)\n",
        "            print(result)\n",
        "        sleep(1)\n",
        "        counter += 1\n"
      ],
      "metadata": {
        "id": "jInliyngwHA1"
      },
      "execution_count": 7,
      "outputs": []
    },
    {
      "cell_type": "code",
      "source": [
        "main()"
      ],
      "metadata": {
        "id": "LVQduI84BHmE"
      },
      "execution_count": null,
      "outputs": []
    }
  ],
  "metadata": {
    "colab": {
      "provenance": [],
      "include_colab_link": true
    },
    "kernelspec": {
      "display_name": "Python 3",
      "name": "python3"
    },
    "language_info": {
      "name": "python"
    }
  },
  "nbformat": 4,
  "nbformat_minor": 0
}